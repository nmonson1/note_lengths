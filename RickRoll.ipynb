{
  "nbformat": 4,
  "nbformat_minor": 0,
  "metadata": {
    "colab": {
      "provenance": [],
      "authorship_tag": "ABX9TyPhbrPhHDLddrCaNam3cBf5",
      "include_colab_link": true
    },
    "kernelspec": {
      "name": "python3",
      "display_name": "Python 3"
    },
    "language_info": {
      "name": "python"
    }
  },
  "cells": [
    {
      "cell_type": "markdown",
      "metadata": {
        "id": "view-in-github",
        "colab_type": "text"
      },
      "source": [
        "<a href=\"https://colab.research.google.com/github/nmonson1/note_lengths/blob/main/RickRoll.ipynb\" target=\"_parent\"><img src=\"https://colab.research.google.com/assets/colab-badge.svg\" alt=\"Open In Colab\"/></a>"
      ]
    },
    {
      "cell_type": "code",
      "source": [
        "!pip install mido"
      ],
      "metadata": {
        "colab": {
          "base_uri": "https://localhost:8080/"
        },
        "id": "MVvr6VyZ4TV-",
        "outputId": "db590edb-e3a4-4b46-b622-328d03af9a58"
      },
      "execution_count": 5,
      "outputs": [
        {
          "output_type": "stream",
          "name": "stdout",
          "text": [
            "Requirement already satisfied: mido in /usr/local/lib/python3.10/dist-packages (1.3.0)\n",
            "Requirement already satisfied: packaging~=23.1 in /usr/local/lib/python3.10/dist-packages (from mido) (23.2)\n"
          ]
        }
      ]
    },
    {
      "cell_type": "code",
      "source": [
        "rickroll_frequencies = [\n",
        "    493.8833012561241, 554.3652619537442, 587.3295358348151, 587.3295358348151,\n",
        "    659.2551138257398, 554.3652619537442, 493.8833012561241, 440.0,\n",
        "    493.8833012561241, 493.8833012561241, 554.3652619537442, 587.3295358348151,\n",
        "    493.8833012561241, 440.0, 880.0, 880.0, 659.2551138257398, 493.8833012561241,\n",
        "    493.8833012561241, 554.3652619537442, 587.3295358348151, 493.8833012561241,\n",
        "    587.3295358348151, 659.2551138257398, 554.3652619537442, 493.8833012561241,\n",
        "    554.3652619537442, 493.8833012561241, 440.0, 493.8833012561241,\n",
        "    493.8833012561241, 554.3652619537442, 587.3295358348151, 493.8833012561241,\n",
        "    440.0, 659.2551138257398, 659.2551138257398, 659.2551138257398,\n",
        "    739.9888454232688, 659.2551138257398, 587.3295358348151, 659.2551138257398,\n",
        "    739.9888454232688, 587.3295358348151, 659.2551138257398, 659.2551138257398,\n",
        "    659.2551138257398, 739.9888454232688, 659.2551138257398, 440.0,\n",
        "    493.8833012561241, 554.3652619537442, 587.3295358348151, 493.8833012561241,\n",
        "    659.2551138257398, 739.9888454232688, 659.2551138257398, 440.0,\n",
        "    493.8833012561241, 587.3295358348151, 493.8833012561241, 739.9888454232688,\n",
        "    739.9888454232688, 659.2551138257398, 440.0, 493.8833012561241,\n",
        "    587.3295358348151, 493.8833012561241, 659.2551138257398, 659.2551138257398,\n",
        "    587.3295358348151, 554.3652619537442, 493.8833012561241, 440.0,\n",
        "    493.8833012561241, 587.3295358348151, 493.8833012561241, 587.3295358348151,\n",
        "    659.2551138257398, 554.3652619537442, 440.0, 440.0, 659.2551138257398,\n",
        "    587.3295358348151, 440.0, 493.8833012561241, 587.3295358348151,\n",
        "    493.8833012561241, 739.9888454232688, 739.9888454232688, 659.2551138257398,\n",
        "    440.0, 493.8833012561241, 587.3295358348151, 493.8833012561241, 880.0,\n",
        "    554.3652619537442, 587.3295358348151, 554.3652619537442, 493.8833012561241,\n",
        "    440.0, 493.8833012561241, 587.3295358348151, 493.8833012561241,\n",
        "    587.3295358348151, 659.2551138257398, 554.3652619537442, 440.0, 440.0,\n",
        "    659.2551138257398, 587.3295358348151\n",
        "]"
      ],
      "metadata": {
        "id": "_gEq3MCA4nBc"
      },
      "execution_count": null,
      "outputs": []
    },
    {
      "cell_type": "code",
      "execution_count": 6,
      "metadata": {
        "colab": {
          "base_uri": "https://localhost:8080/"
        },
        "id": "ovgHDLua3_O6",
        "outputId": "3266a633-6a96-4ed3-c5dc-332f04f036d0"
      },
      "outputs": [
        {
          "output_type": "stream",
          "name": "stdout",
          "text": [
            "MIDI file saved as rickroll.mid\n"
          ]
        }
      ],
      "source": [
        "from mido import Message, MidiFile, MidiTrack\n",
        "import math\n",
        "import os\n",
        "\n",
        "# Initialize a MIDI file and track\n",
        "mid = MidiFile()\n",
        "track = MidiTrack()\n",
        "mid.tracks.append(track)\n",
        "\n",
        "# Convert the frequencies to MIDI note numbers\n",
        "# The formula to convert a frequency to a MIDI note is: 12 * log2(frequency / 440) + 69\n",
        "midi_notes = [int(round(12 * math.log2(freq / 440) + 69)) for freq in rickroll_frequencies]\n",
        "\n",
        "# Add notes to the MIDI track\n",
        "for note in midi_notes:\n",
        "    track.append(Message('note_on', note=note, velocity=64, time=0))\n",
        "    track.append(Message('note_off', note=note, velocity=64, time=500))\n",
        "\n",
        "# Define the MIDI file path and save it\n",
        "midi_file_path = 'rickroll.mid'\n",
        "mid.save(midi_file_path)\n",
        "\n",
        "# Show the saved file\n",
        "print(f\"MIDI file saved as {midi_file_path}\")"
      ]
    },
    {
      "cell_type": "code",
      "source": [
        "# Initialize a new MIDI file and track for the reversed version\n",
        "mid_reverse = MidiFile()\n",
        "track_reverse = MidiTrack()\n",
        "mid_reverse.tracks.append(track_reverse)\n",
        "\n",
        "# Reverse the order of MIDI notes\n",
        "midi_notes_reverse = midi_notes[::-1]\n",
        "\n",
        "# Add notes to the reversed MIDI track\n",
        "for note in midi_notes_reverse:\n",
        "    track_reverse.append(Message('note_on', note=note, velocity=64, time=0))\n",
        "    track_reverse.append(Message('note_off', note=note, velocity=64, time=500))\n",
        "\n",
        "# Define the reversed MIDI file path and save it\n",
        "midi_file_path_reverse = 'rickroll_reverse.mid'\n",
        "mid_reverse.save(midi_file_path_reverse)\n",
        "\n",
        "# Show the saved reversed file\n",
        "print(f\"Reversed MIDI file saved as {midi_file_path_reverse}\")\n"
      ],
      "metadata": {
        "colab": {
          "base_uri": "https://localhost:8080/"
        },
        "id": "sVz4Mm8b94lw",
        "outputId": "4148d752-9800-447d-ad1d-7e82727b777f"
      },
      "execution_count": null,
      "outputs": [
        {
          "output_type": "stream",
          "name": "stdout",
          "text": [
            "Reversed MIDI file saved as rickroll_reverse.mid\n"
          ]
        }
      ]
    },
    {
      "cell_type": "code",
      "source": [
        "note_durations = [\n",
        "    # \"We're no strangers to love\"\n",
        "    300, 300, 300, 300, 600, 300, 300, 300,\n",
        "    # \"You know the rules and so do I\"\n",
        "    300, 200, 200, 300, 300, 600,\n",
        "    # \"A full commitment's what I'm thinking of\"\n",
        "    300, 300, 300, 300, 600, 300, 300, 300,\n",
        "    # \"You wouldn't get this from any other guy\"\n",
        "    300, 200, 200, 300, 300, 600,\n",
        "    # \"I just wanna tell you how I'm feeling\"\n",
        "    300, 300, 600, 300, 300,\n",
        "    # \"Gotta make you understand\"\n",
        "    300, 300, 600,\n",
        "    # \"Never gonna give you up\"\n",
        "    300, 300, 300, 300, 600,\n",
        "    # \"Never gonna let you down\"\n",
        "    300, 300, 300, 300, 600,\n",
        "    # \"Never gonna run around and desert you\"\n",
        "    300, 300, 300, 300, 300, 300, 600,\n",
        "    # \"Never gonna make you cry\"\n",
        "    300, 300, 300, 300, 600,\n",
        "    # \"Never gonna say goodbye\"\n",
        "    300, 300, 300, 300, 600,\n",
        "    # \"Never gonna tell a lie and hurt you\"\n",
        "    300, 300, 300, 300, 300, 300, 600\n",
        "]"
      ],
      "metadata": {
        "id": "3LII3xkpAA5F"
      },
      "execution_count": null,
      "outputs": []
    },
    {
      "cell_type": "code",
      "source": [
        "# Initialize a new MIDI file and track for the rhythm-adjusted version\n",
        "mid_rhythm = MidiFile()\n",
        "track_rhythm = MidiTrack()\n",
        "mid_rhythm.tracks.append(track_rhythm)\n",
        "\n",
        "# Add notes to the rhythm-adjusted MIDI track\n",
        "for note, duration in zip(midi_notes, note_durations):\n",
        "    track_rhythm.append(Message('note_on', note=note, velocity=64, time=0))\n",
        "    track_rhythm.append(Message('note_off', note=note, velocity=64, time=duration))\n",
        "\n",
        "# Save the rhythm-adjusted MIDI file\n",
        "midi_file_path_rhythm = 'rickroll_rhythm.mid'\n",
        "mid_rhythm.save(midi_file_path_rhythm)\n",
        "\n",
        "# Show the saved file\n",
        "print(f\"Rhythm-adjusted MIDI file saved as {midi_file_path_rhythm}\")"
      ],
      "metadata": {
        "colab": {
          "base_uri": "https://localhost:8080/"
        },
        "id": "rYgDE8aPAIk7",
        "outputId": "4841c0ff-e76c-4fd2-a5b2-fc1e8b532c35"
      },
      "execution_count": 7,
      "outputs": [
        {
          "output_type": "stream",
          "name": "stdout",
          "text": [
            "Rhythm-adjusted MIDI file saved as rickroll_rhythm.mid\n"
          ]
        }
      ]
    }
  ]
}